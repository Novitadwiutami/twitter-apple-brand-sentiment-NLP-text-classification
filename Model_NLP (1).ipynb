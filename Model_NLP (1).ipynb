{
  "nbformat": 4,
  "nbformat_minor": 0,
  "metadata": {
    "colab": {
      "name": "Model_NLP.ipynb",
      "provenance": [],
      "collapsed_sections": []
    },
    "kernelspec": {
      "name": "python3",
      "display_name": "Python 3"
    },
    "language_info": {
      "name": "python"
    }
  },
  "cells": [
    {
      "cell_type": "markdown",
      "metadata": {
        "id": "-FUkwwBnXhiO"
      },
      "source": [
        "\n",
        "\n",
        "---\n",
        "\n"
      ]
    },
    {
      "cell_type": "markdown",
      "metadata": {
        "id": "AwNHbxfCXi9F"
      },
      "source": [
        "**CALLING THE DATASET**"
      ]
    },
    {
      "cell_type": "code",
      "metadata": {
        "id": "jwvFBY2vIoYo"
      },
      "source": [
        "import pandas as pd\n",
        "df = pd.read_csv('apple-twitter-sentiment-texts.csv')"
      ],
      "execution_count": null,
      "outputs": []
    },
    {
      "cell_type": "code",
      "metadata": {
        "colab": {
          "base_uri": "https://localhost:8080/",
          "height": 204
        },
        "id": "AfxT7oLkIhTp",
        "outputId": "ee98e2c8-a886-4244-d3b5-828cbf9d33a7"
      },
      "source": [
        "df.head()"
      ],
      "execution_count": null,
      "outputs": [
        {
          "output_type": "execute_result",
          "data": {
            "text/html": [
              "<div>\n",
              "<style scoped>\n",
              "    .dataframe tbody tr th:only-of-type {\n",
              "        vertical-align: middle;\n",
              "    }\n",
              "\n",
              "    .dataframe tbody tr th {\n",
              "        vertical-align: top;\n",
              "    }\n",
              "\n",
              "    .dataframe thead th {\n",
              "        text-align: right;\n",
              "    }\n",
              "</style>\n",
              "<table border=\"1\" class=\"dataframe\">\n",
              "  <thead>\n",
              "    <tr style=\"text-align: right;\">\n",
              "      <th></th>\n",
              "      <th>text</th>\n",
              "      <th>sentiment</th>\n",
              "    </tr>\n",
              "  </thead>\n",
              "  <tbody>\n",
              "    <tr>\n",
              "      <th>0</th>\n",
              "      <td>Wow. Yall needa step it up @Apple RT @heynyla:...</td>\n",
              "      <td>-1</td>\n",
              "    </tr>\n",
              "    <tr>\n",
              "      <th>1</th>\n",
              "      <td>What Happened To Apple Inc?   http://t.co/FJEX...</td>\n",
              "      <td>0</td>\n",
              "    </tr>\n",
              "    <tr>\n",
              "      <th>2</th>\n",
              "      <td>Thank u @apple I can now compile all of the pi...</td>\n",
              "      <td>1</td>\n",
              "    </tr>\n",
              "    <tr>\n",
              "      <th>3</th>\n",
              "      <td>The oddly uplifting story of the Apple co-foun...</td>\n",
              "      <td>0</td>\n",
              "    </tr>\n",
              "    <tr>\n",
              "      <th>4</th>\n",
              "      <td>@apple can i exchange my iphone for a differen...</td>\n",
              "      <td>0</td>\n",
              "    </tr>\n",
              "  </tbody>\n",
              "</table>\n",
              "</div>"
            ],
            "text/plain": [
              "                                                text  sentiment\n",
              "0  Wow. Yall needa step it up @Apple RT @heynyla:...         -1\n",
              "1  What Happened To Apple Inc?   http://t.co/FJEX...          0\n",
              "2  Thank u @apple I can now compile all of the pi...          1\n",
              "3  The oddly uplifting story of the Apple co-foun...          0\n",
              "4  @apple can i exchange my iphone for a differen...          0"
            ]
          },
          "metadata": {
            "tags": []
          },
          "execution_count": 4
        }
      ]
    },
    {
      "cell_type": "code",
      "metadata": {
        "id": "SyqzBsuLIrep"
      },
      "source": [
        "df=df.replace({'sentiment':{-1: 'negative', 0:'neutral', 1:'positive'}})"
      ],
      "execution_count": null,
      "outputs": []
    },
    {
      "cell_type": "code",
      "metadata": {
        "colab": {
          "base_uri": "https://localhost:8080/",
          "height": 419
        },
        "id": "15DEkklRIkqX",
        "outputId": "c251f781-f8df-49a5-b502-0f6a1f19230d"
      },
      "source": [
        "df"
      ],
      "execution_count": null,
      "outputs": [
        {
          "output_type": "execute_result",
          "data": {
            "text/html": [
              "<div>\n",
              "<style scoped>\n",
              "    .dataframe tbody tr th:only-of-type {\n",
              "        vertical-align: middle;\n",
              "    }\n",
              "\n",
              "    .dataframe tbody tr th {\n",
              "        vertical-align: top;\n",
              "    }\n",
              "\n",
              "    .dataframe thead th {\n",
              "        text-align: right;\n",
              "    }\n",
              "</style>\n",
              "<table border=\"1\" class=\"dataframe\">\n",
              "  <thead>\n",
              "    <tr style=\"text-align: right;\">\n",
              "      <th></th>\n",
              "      <th>text</th>\n",
              "      <th>sentiment</th>\n",
              "    </tr>\n",
              "  </thead>\n",
              "  <tbody>\n",
              "    <tr>\n",
              "      <th>0</th>\n",
              "      <td>Wow. Yall needa step it up @Apple RT @heynyla:...</td>\n",
              "      <td>negative</td>\n",
              "    </tr>\n",
              "    <tr>\n",
              "      <th>1</th>\n",
              "      <td>What Happened To Apple Inc?   http://t.co/FJEX...</td>\n",
              "      <td>neutral</td>\n",
              "    </tr>\n",
              "    <tr>\n",
              "      <th>2</th>\n",
              "      <td>Thank u @apple I can now compile all of the pi...</td>\n",
              "      <td>positive</td>\n",
              "    </tr>\n",
              "    <tr>\n",
              "      <th>3</th>\n",
              "      <td>The oddly uplifting story of the Apple co-foun...</td>\n",
              "      <td>neutral</td>\n",
              "    </tr>\n",
              "    <tr>\n",
              "      <th>4</th>\n",
              "      <td>@apple can i exchange my iphone for a differen...</td>\n",
              "      <td>neutral</td>\n",
              "    </tr>\n",
              "    <tr>\n",
              "      <th>...</th>\n",
              "      <td>...</td>\n",
              "      <td>...</td>\n",
              "    </tr>\n",
              "    <tr>\n",
              "      <th>1625</th>\n",
              "      <td>Those** PICK UP THE SLACK YOU FUCK BOYS @Apple</td>\n",
              "      <td>negative</td>\n",
              "    </tr>\n",
              "    <tr>\n",
              "      <th>1626</th>\n",
              "      <td>Finally got my iPhone 6 in the mail and it com...</td>\n",
              "      <td>negative</td>\n",
              "    </tr>\n",
              "    <tr>\n",
              "      <th>1627</th>\n",
              "      <td>@umo_games @Apple ended up getting a new compu...</td>\n",
              "      <td>neutral</td>\n",
              "    </tr>\n",
              "    <tr>\n",
              "      <th>1628</th>\n",
              "      <td>The 19-Year-Old #WizKid Who Turned Down @Apple...</td>\n",
              "      <td>neutral</td>\n",
              "    </tr>\n",
              "    <tr>\n",
              "      <th>1629</th>\n",
              "      <td>The iPhone 6 May Have A Longer Upgrade Cycle -...</td>\n",
              "      <td>negative</td>\n",
              "    </tr>\n",
              "  </tbody>\n",
              "</table>\n",
              "<p>1630 rows × 2 columns</p>\n",
              "</div>"
            ],
            "text/plain": [
              "                                                   text sentiment\n",
              "0     Wow. Yall needa step it up @Apple RT @heynyla:...  negative\n",
              "1     What Happened To Apple Inc?   http://t.co/FJEX...   neutral\n",
              "2     Thank u @apple I can now compile all of the pi...  positive\n",
              "3     The oddly uplifting story of the Apple co-foun...   neutral\n",
              "4     @apple can i exchange my iphone for a differen...   neutral\n",
              "...                                                 ...       ...\n",
              "1625     Those** PICK UP THE SLACK YOU FUCK BOYS @Apple  negative\n",
              "1626  Finally got my iPhone 6 in the mail and it com...  negative\n",
              "1627  @umo_games @Apple ended up getting a new compu...   neutral\n",
              "1628  The 19-Year-Old #WizKid Who Turned Down @Apple...   neutral\n",
              "1629  The iPhone 6 May Have A Longer Upgrade Cycle -...  negative\n",
              "\n",
              "[1630 rows x 2 columns]"
            ]
          },
          "metadata": {
            "tags": []
          },
          "execution_count": 8
        }
      ]
    },
    {
      "cell_type": "markdown",
      "metadata": {
        "id": "Ib9UA74iX0eO"
      },
      "source": [
        "**ONE HOT ENCODING**"
      ]
    },
    {
      "cell_type": "code",
      "metadata": {
        "id": "SsLIZTPPKT6_"
      },
      "source": [
        "category = pd.get_dummies(df.sentiment)\n",
        "df_baru = pd.concat([df, category], axis=1)\n",
        "df_baru = df_baru.drop(columns='sentiment')"
      ],
      "execution_count": null,
      "outputs": []
    },
    {
      "cell_type": "code",
      "metadata": {
        "colab": {
          "base_uri": "https://localhost:8080/",
          "height": 419
        },
        "id": "oQNJU2NOKYfQ",
        "outputId": "c3861d8a-b526-4b0b-cec2-8a15076e232b"
      },
      "source": [
        "df_baru"
      ],
      "execution_count": null,
      "outputs": [
        {
          "output_type": "execute_result",
          "data": {
            "text/html": [
              "<div>\n",
              "<style scoped>\n",
              "    .dataframe tbody tr th:only-of-type {\n",
              "        vertical-align: middle;\n",
              "    }\n",
              "\n",
              "    .dataframe tbody tr th {\n",
              "        vertical-align: top;\n",
              "    }\n",
              "\n",
              "    .dataframe thead th {\n",
              "        text-align: right;\n",
              "    }\n",
              "</style>\n",
              "<table border=\"1\" class=\"dataframe\">\n",
              "  <thead>\n",
              "    <tr style=\"text-align: right;\">\n",
              "      <th></th>\n",
              "      <th>text</th>\n",
              "      <th>negative</th>\n",
              "      <th>neutral</th>\n",
              "      <th>positive</th>\n",
              "    </tr>\n",
              "  </thead>\n",
              "  <tbody>\n",
              "    <tr>\n",
              "      <th>0</th>\n",
              "      <td>Wow. Yall needa step it up @Apple RT @heynyla:...</td>\n",
              "      <td>1</td>\n",
              "      <td>0</td>\n",
              "      <td>0</td>\n",
              "    </tr>\n",
              "    <tr>\n",
              "      <th>1</th>\n",
              "      <td>What Happened To Apple Inc?   http://t.co/FJEX...</td>\n",
              "      <td>0</td>\n",
              "      <td>1</td>\n",
              "      <td>0</td>\n",
              "    </tr>\n",
              "    <tr>\n",
              "      <th>2</th>\n",
              "      <td>Thank u @apple I can now compile all of the pi...</td>\n",
              "      <td>0</td>\n",
              "      <td>0</td>\n",
              "      <td>1</td>\n",
              "    </tr>\n",
              "    <tr>\n",
              "      <th>3</th>\n",
              "      <td>The oddly uplifting story of the Apple co-foun...</td>\n",
              "      <td>0</td>\n",
              "      <td>1</td>\n",
              "      <td>0</td>\n",
              "    </tr>\n",
              "    <tr>\n",
              "      <th>4</th>\n",
              "      <td>@apple can i exchange my iphone for a differen...</td>\n",
              "      <td>0</td>\n",
              "      <td>1</td>\n",
              "      <td>0</td>\n",
              "    </tr>\n",
              "    <tr>\n",
              "      <th>...</th>\n",
              "      <td>...</td>\n",
              "      <td>...</td>\n",
              "      <td>...</td>\n",
              "      <td>...</td>\n",
              "    </tr>\n",
              "    <tr>\n",
              "      <th>1625</th>\n",
              "      <td>Those** PICK UP THE SLACK YOU FUCK BOYS @Apple</td>\n",
              "      <td>1</td>\n",
              "      <td>0</td>\n",
              "      <td>0</td>\n",
              "    </tr>\n",
              "    <tr>\n",
              "      <th>1626</th>\n",
              "      <td>Finally got my iPhone 6 in the mail and it com...</td>\n",
              "      <td>1</td>\n",
              "      <td>0</td>\n",
              "      <td>0</td>\n",
              "    </tr>\n",
              "    <tr>\n",
              "      <th>1627</th>\n",
              "      <td>@umo_games @Apple ended up getting a new compu...</td>\n",
              "      <td>0</td>\n",
              "      <td>1</td>\n",
              "      <td>0</td>\n",
              "    </tr>\n",
              "    <tr>\n",
              "      <th>1628</th>\n",
              "      <td>The 19-Year-Old #WizKid Who Turned Down @Apple...</td>\n",
              "      <td>0</td>\n",
              "      <td>1</td>\n",
              "      <td>0</td>\n",
              "    </tr>\n",
              "    <tr>\n",
              "      <th>1629</th>\n",
              "      <td>The iPhone 6 May Have A Longer Upgrade Cycle -...</td>\n",
              "      <td>1</td>\n",
              "      <td>0</td>\n",
              "      <td>0</td>\n",
              "    </tr>\n",
              "  </tbody>\n",
              "</table>\n",
              "<p>1630 rows × 4 columns</p>\n",
              "</div>"
            ],
            "text/plain": [
              "                                                   text  ...  positive\n",
              "0     Wow. Yall needa step it up @Apple RT @heynyla:...  ...         0\n",
              "1     What Happened To Apple Inc?   http://t.co/FJEX...  ...         0\n",
              "2     Thank u @apple I can now compile all of the pi...  ...         1\n",
              "3     The oddly uplifting story of the Apple co-foun...  ...         0\n",
              "4     @apple can i exchange my iphone for a differen...  ...         0\n",
              "...                                                 ...  ...       ...\n",
              "1625     Those** PICK UP THE SLACK YOU FUCK BOYS @Apple  ...         0\n",
              "1626  Finally got my iPhone 6 in the mail and it com...  ...         0\n",
              "1627  @umo_games @Apple ended up getting a new compu...  ...         0\n",
              "1628  The 19-Year-Old #WizKid Who Turned Down @Apple...  ...         0\n",
              "1629  The iPhone 6 May Have A Longer Upgrade Cycle -...  ...         0\n",
              "\n",
              "[1630 rows x 4 columns]"
            ]
          },
          "metadata": {
            "tags": []
          },
          "execution_count": 10
        }
      ]
    },
    {
      "cell_type": "code",
      "metadata": {
        "id": "NgVH0bkEKas8"
      },
      "source": [
        "tweet = df_baru['text'].values\n",
        "label = df_baru[['negative', 'neutral', 'positive']].values"
      ],
      "execution_count": null,
      "outputs": []
    },
    {
      "cell_type": "markdown",
      "metadata": {
        "id": "gsvmh7NDX7Jx"
      },
      "source": [
        "**SPLITTING INTO TRAINING SET AND VALIDATION SET**"
      ]
    },
    {
      "cell_type": "code",
      "metadata": {
        "id": "dVorvOPIKrPz"
      },
      "source": [
        "from sklearn.model_selection import train_test_split\n",
        "tweet_train, tweet_test, label_train, label_test = train_test_split(tweet, label, test_size=0.2)"
      ],
      "execution_count": null,
      "outputs": []
    },
    {
      "cell_type": "markdown",
      "metadata": {
        "id": "B-Pr2niqYD42"
      },
      "source": [
        "**TOKENIZER FUNCTION**"
      ]
    },
    {
      "cell_type": "code",
      "metadata": {
        "id": "WWvhbE3GKt25"
      },
      "source": [
        "from tensorflow.keras.preprocessing.text import Tokenizer\n",
        "from tensorflow.keras.preprocessing.sequence import pad_sequences"
      ],
      "execution_count": null,
      "outputs": []
    },
    {
      "cell_type": "code",
      "metadata": {
        "id": "oWzGSizxKv9a"
      },
      "source": [
        "tokenizer = Tokenizer(num_words=5000, oov_token='x')\n",
        "tokenizer.fit_on_texts(tweet_train) \n",
        "tokenizer.fit_on_texts(tweet_test)"
      ],
      "execution_count": null,
      "outputs": []
    },
    {
      "cell_type": "code",
      "metadata": {
        "id": "4kl4vE3pKyCf"
      },
      "source": [
        "sekuens_train = tokenizer.texts_to_sequences(tweet_train)\n",
        "sekuens_test = tokenizer.texts_to_sequences(tweet_test)"
      ],
      "execution_count": null,
      "outputs": []
    },
    {
      "cell_type": "code",
      "metadata": {
        "id": "j5RQByJPKz2l"
      },
      "source": [
        "padded_train = pad_sequences(sekuens_train) \n",
        "padded_test = pad_sequences(sekuens_test)"
      ],
      "execution_count": null,
      "outputs": []
    },
    {
      "cell_type": "markdown",
      "metadata": {
        "id": "CJDAp5deYICe"
      },
      "source": [
        "**MODEL SEQUENTIAL**"
      ]
    },
    {
      "cell_type": "markdown",
      "metadata": {
        "id": "P_zjhVpjYLOV"
      },
      "source": [
        "*With Embedding Layer*"
      ]
    },
    {
      "cell_type": "code",
      "metadata": {
        "id": "tetilEhlK18d"
      },
      "source": [
        "import tensorflow as tf\n",
        "model = tf.keras.Sequential([\n",
        "    tf.keras.layers.Embedding(input_dim=5000, output_dim=16),\n",
        "    tf.keras.layers.LSTM(128),\n",
        "    tf.keras.layers.Dense(64, activation='relu'),\n",
        "    tf.keras.layers.Dense(64, activation='relu'),\n",
        "    tf.keras.layers.Dense(3, activation='softmax')\n",
        "])\n",
        "model.compile(loss='categorical_crossentropy',optimizer='adam',metrics=['accuracy'])"
      ],
      "execution_count": null,
      "outputs": []
    },
    {
      "cell_type": "markdown",
      "metadata": {
        "id": "dbFyHn-wYT_m"
      },
      "source": [
        "*Callback Function*"
      ]
    },
    {
      "cell_type": "code",
      "metadata": {
        "id": "zJjGAG84K7Sr"
      },
      "source": [
        "class Callback(tf.keras.callbacks.Callback):\n",
        "  def on_epoch_end(self, epoch, logs={}):\n",
        "    if(logs.get('accuracy') > 0.80): \n",
        "      print(\"\\nWe have reached %2.2f%% accuracy, so we will stop training.\" %(0.80*100))\n",
        "      self.model.stop_training = True\n",
        "\n",
        "callbacks = Callback()"
      ],
      "execution_count": null,
      "outputs": []
    },
    {
      "cell_type": "markdown",
      "metadata": {
        "id": "2N-__nYyYYsO"
      },
      "source": [
        "**TRAINING MODEL**"
      ]
    },
    {
      "cell_type": "code",
      "metadata": {
        "colab": {
          "base_uri": "https://localhost:8080/"
        },
        "id": "PtWA02GcK-SU",
        "outputId": "b47cb60a-709e-42f0-df94-babb137a2ae5"
      },
      "source": [
        "num_epochs = 40\n",
        "history = model.fit(padded_train, label_train, epochs=num_epochs, \n",
        "                    validation_data=(padded_test, label_test), verbose=2,callbacks=[callbacks])"
      ],
      "execution_count": null,
      "outputs": [
        {
          "output_type": "stream",
          "text": [
            "Epoch 1/40\n",
            "41/41 - 4s - loss: 0.9736 - accuracy: 0.4962 - val_loss: 0.9340 - val_accuracy: 0.7147\n",
            "Epoch 2/40\n",
            "41/41 - 1s - loss: 0.7746 - accuracy: 0.7508 - val_loss: 0.6399 - val_accuracy: 0.7699\n",
            "Epoch 3/40\n",
            "41/41 - 1s - loss: 0.5414 - accuracy: 0.7968 - val_loss: 0.6156 - val_accuracy: 0.7822\n",
            "Epoch 4/40\n",
            "41/41 - 1s - loss: 0.3511 - accuracy: 0.8758 - val_loss: 0.6174 - val_accuracy: 0.7822\n",
            "\n",
            "We have reached 80.00% accuracy, so we will stop training.\n"
          ],
          "name": "stdout"
        }
      ]
    },
    {
      "cell_type": "markdown",
      "metadata": {
        "id": "rk0FXg7fYcfP"
      },
      "source": [
        "**PLOT**"
      ]
    },
    {
      "cell_type": "code",
      "metadata": {
        "id": "OMxK5vANLIpT"
      },
      "source": [
        "import matplotlib.pyplot as plt\n",
        "import matplotlib.image as mpimg\n",
        "import seaborn as sns\n",
        "%matplotlib inline"
      ],
      "execution_count": null,
      "outputs": []
    },
    {
      "cell_type": "markdown",
      "metadata": {
        "id": "_wrmyY7QYgq9"
      },
      "source": [
        "*Accuration Plot*"
      ]
    },
    {
      "cell_type": "code",
      "metadata": {
        "colab": {
          "base_uri": "https://localhost:8080/",
          "height": 285
        },
        "id": "9qbHNKwWLOFa",
        "outputId": "6e8839eb-f0b3-4c2c-c680-b54fe1a1d68c"
      },
      "source": [
        "# Create a color palette\n",
        "sns.set_theme(style=\"darkgrid\")\n",
        "\n",
        "plt.plot(range(len(history.history['accuracy'])),history.history['accuracy'], label='Training', color='blue')\n",
        "plt.plot(range(len(history.history['val_accuracy'])),history.history['val_accuracy'], label='Validation', color='red')\n",
        "plt.ylabel('Accuracy')\n",
        "plt.xlabel('Epoch')\n",
        "plt.legend(loc=\"upper left\")\n",
        "plt.show()"
      ],
      "execution_count": null,
      "outputs": [
        {
          "output_type": "display_data",
          "data": {
            "image/png": "[encoded data removed]",
            "text/plain": [
              "<Figure size 432x288 with 1 Axes>"
            ]
          },
          "metadata": {
            "tags": []
          }
        }
      ]
    },
    {
      "cell_type": "markdown",
      "metadata": {
        "id": "6VgRi8oHYjx8"
      },
      "source": [
        "*Loss Plot*"
      ]
    },
    {
      "cell_type": "code",
      "metadata": {
        "colab": {
          "base_uri": "https://localhost:8080/",
          "height": 287
        },
        "id": "7i6XsqiHLQXF",
        "outputId": "022cb679-8461-4d83-96f6-4101581cfb20"
      },
      "source": [
        "# Create a color palette\n",
        "sns.set_theme(style=\"darkgrid\")\n",
        "\n",
        "plt.plot(range(len(history.history['loss'])),history.history['loss'], label='Training', color='blue')\n",
        "plt.plot(range(len(history.history['val_loss'])),history.history['val_loss'], label='Validation', color='red')\n",
        "plt.ylabel('Loss')\n",
        "plt.xlabel('Epoch')\n",
        "plt.legend(loc=\"upper left\")\n",
        "plt.show()"
      ],
      "execution_count": null,
      "outputs": [
        {
          "output_type": "display_data",
          "data": {
            "image/png": "[encoded data removed]",
            "text/plain": [
              "<Figure size 432x288 with 1 Axes>"
            ]
          },
          "metadata": {
            "tags": []
          }
        }
      ]
    }
  ]
}